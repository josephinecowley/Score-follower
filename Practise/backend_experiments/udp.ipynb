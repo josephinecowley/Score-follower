{
 "cells": [
  {
   "cell_type": "code",
   "execution_count": 1,
   "metadata": {},
   "outputs": [
    {
     "name": "stdout",
     "output_type": "stream",
     "text": [
      "Backend will be outputting via UDP to 127.0.0.1:8080\n"
     ]
    },
    {
     "ename": "KeyboardInterrupt",
     "evalue": "",
     "output_type": "error",
     "traceback": [
      "\u001b[0;31m---------------------------------------------------------------------------\u001b[0m",
      "\u001b[0;31mKeyboardInterrupt\u001b[0m                         Traceback (most recent call last)",
      "Cell \u001b[0;32mIn[1], line 18\u001b[0m\n\u001b[1;32m     16\u001b[0m \u001b[38;5;28;01mfor\u001b[39;00m i \u001b[38;5;129;01min\u001b[39;00m \u001b[38;5;28mrange\u001b[39m(\u001b[38;5;241m100\u001b[39m):\n\u001b[1;32m     17\u001b[0m     socket1\u001b[38;5;241m.\u001b[39msendto(\u001b[38;5;28mstr\u001b[39m(i)\u001b[38;5;241m.\u001b[39mencode(), (addr, port))\n\u001b[0;32m---> 18\u001b[0m     \u001b[43mtime\u001b[49m\u001b[38;5;241;43m.\u001b[39;49m\u001b[43msleep\u001b[49m\u001b[43m(\u001b[49m\u001b[38;5;241;43m1\u001b[39;49m\u001b[43m)\u001b[49m\n",
      "\u001b[0;31mKeyboardInterrupt\u001b[0m: "
     ]
    }
   ],
   "source": [
    "import socket\n",
    "import time\n",
    "backend_output: str = \"udp:127.0.0.1:8080\"\n",
    "reduced_backend_output = backend_output[4:]\n",
    "# try to parse UDP IP and port\n",
    "address_port = reduced_backend_output.split(\":\")\n",
    "if len(address_port) != 2:\n",
    "    raise ValueError(\n",
    "        f\"Unknown `backend_output`: {backend_output}\")\n",
    "addr = str(address_port[0])\n",
    "port = int(address_port[1])\n",
    "\n",
    "socket1 = socket.socket(socket.AF_INET, socket.SOCK_DGRAM)\n",
    "print(\n",
    "    f\"Backend will be outputting via UDP to {addr}:{port}\")\n",
    "for i in range(100):\n",
    "    socket1.sendto(str(i).encode(), (addr, port))\n",
    "    time.sleep(1)"
   ]
  },
  {
   "cell_type": "code",
   "execution_count": 17,
   "metadata": {},
   "outputs": [
    {
     "name": "stdout",
     "output_type": "stream",
     "text": [
      "<class 'numpy.ndarray'>\n"
     ]
    }
   ],
   "source": [
    "import numpy as np\n",
    "a = [1,2,3,4,4]\n",
    "b = np.cumsum(a)\n",
    "print(type(b))"
   ]
  },
  {
   "cell_type": "code",
   "execution_count": 15,
   "metadata": {},
   "outputs": [
    {
     "name": "stdout",
     "output_type": "stream",
     "text": [
      "[[1, 3, 1], [1, 8, 4], [2, 6, 2], [7, 10, 10]]\n",
      "[[1, 3, 1], [2, 6, 2], [1, 8, 4], [7, 10, 10]]\n"
     ]
    }
   ],
   "source": [
    "A=[[1,3,1],[1,8,4],[2,6,2],[7,10,10]]\n",
    "B = sorted(A, key= lambda x: x[1])\n",
    "print(A)\n",
    "print(B)"
   ]
  },
  {
   "cell_type": "code",
   "execution_count": 3,
   "metadata": {},
   "outputs": [
    {
     "name": "stdout",
     "output_type": "stream",
     "text": [
      "Backend will be outputting via UDP to 127.0.0.1:4000\n",
      "0\n",
      "1\n",
      "2\n",
      "3\n",
      "4\n",
      "5\n",
      "6\n",
      "7\n",
      "8\n",
      "9\n",
      "10\n",
      "11\n",
      "12\n",
      "13\n",
      "14\n",
      "15\n"
     ]
    },
    {
     "ename": "KeyboardInterrupt",
     "evalue": "",
     "output_type": "error",
     "traceback": [
      "\u001b[0;31m---------------------------------------------------------------------------\u001b[0m",
      "\u001b[0;31mKeyboardInterrupt\u001b[0m                         Traceback (most recent call last)",
      "Cell \u001b[0;32mIn[3], line 19\u001b[0m\n\u001b[1;32m     17\u001b[0m socket1\u001b[38;5;241m.\u001b[39msendto(\u001b[38;5;28mstr\u001b[39m(i)\u001b[38;5;241m.\u001b[39mencode(), (addr, port))\n\u001b[1;32m     18\u001b[0m \u001b[38;5;28mprint\u001b[39m(i, flush\u001b[38;5;241m=\u001b[39m\u001b[38;5;28;01mTrue\u001b[39;00m)\n\u001b[0;32m---> 19\u001b[0m \u001b[43mtime\u001b[49m\u001b[38;5;241;43m.\u001b[39;49m\u001b[43msleep\u001b[49m\u001b[43m(\u001b[49m\u001b[38;5;241;43m1\u001b[39;49m\u001b[43m)\u001b[49m\n",
      "\u001b[0;31mKeyboardInterrupt\u001b[0m: "
     ]
    }
   ],
   "source": [
    "import socket\n",
    "import time\n",
    "backend_output: str = \"udp:127.0.0.1:4000\"\n",
    "reduced_backend_output = backend_output[4:]\n",
    "# try to parse UDP IP and port\n",
    "address_port = reduced_backend_output.split(\":\")\n",
    "if len(address_port) != 2:\n",
    "    raise ValueError(\n",
    "        f\"Unknown `backend_output`: {backend_output}\")\n",
    "addr = str(address_port[0])\n",
    "port = int(address_port[1])\n",
    "\n",
    "socket1 = socket.socket(socket.AF_INET, socket.SOCK_DGRAM)\n",
    "print(\n",
    "    f\"Backend will be outputting via UDP to {addr}:{port}\")\n",
    "for i in range(100):\n",
    "    socket1.sendto(str(i).encode(), (addr, port))\n",
    "    print(i, flush=True)\n",
    "    time.sleep(1)"
   ]
  }
 ],
 "metadata": {
  "kernelspec": {
   "display_name": "blog",
   "language": "python",
   "name": "python3"
  },
  "language_info": {
   "codemirror_mode": {
    "name": "ipython",
    "version": 3
   },
   "file_extension": ".py",
   "mimetype": "text/x-python",
   "name": "python",
   "nbconvert_exporter": "python",
   "pygments_lexer": "ipython3",
   "version": "3.9.18"
  }
 },
 "nbformat": 4,
 "nbformat_minor": 2
}
