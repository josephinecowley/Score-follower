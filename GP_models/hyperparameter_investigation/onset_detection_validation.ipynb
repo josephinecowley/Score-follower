{
 "cells": [
  {
   "cell_type": "code",
   "execution_count": 2,
   "metadata": {},
   "outputs": [
    {
     "ename": "ModuleNotFoundError",
     "evalue": "No module named 'helper'",
     "output_type": "error",
     "traceback": [
      "\u001b[0;31m---------------------------------------------------------------------------\u001b[0m",
      "\u001b[0;31mModuleNotFoundError\u001b[0m                       Traceback (most recent call last)",
      "\u001b[1;32m/Users/josephine/Documents/Engineering /Part IIB/Score alignment project/Score-follower/GP_models/hyperparameter_investigation/onset_detection_validation.ipynb Cell 1\u001b[0m line \u001b[0;36m2\n\u001b[1;32m      <a href='vscode-notebook-cell:/Users/josephine/Documents/Engineering%20/Part%20IIB/Score%20alignment%20project/Score-follower/GP_models/hyperparameter_investigation/onset_detection_validation.ipynb#W0sZmlsZQ%3D%3D?line=0'>1</a>\u001b[0m \u001b[39mimport\u001b[39;00m \u001b[39mnumpy\u001b[39;00m \u001b[39mas\u001b[39;00m \u001b[39mnp\u001b[39;00m\n\u001b[0;32m----> <a href='vscode-notebook-cell:/Users/josephine/Documents/Engineering%20/Part%20IIB/Score%20alignment%20project/Score-follower/GP_models/hyperparameter_investigation/onset_detection_validation.ipynb#W0sZmlsZQ%3D%3D?line=1'>2</a>\u001b[0m \u001b[39mfrom\u001b[39;00m \u001b[39monset_detection\u001b[39;00m \u001b[39mimport\u001b[39;00m detected_samples\n\u001b[1;32m      <a href='vscode-notebook-cell:/Users/josephine/Documents/Engineering%20/Part%20IIB/Score%20alignment%20project/Score-follower/GP_models/hyperparameter_investigation/onset_detection_validation.ipynb#W0sZmlsZQ%3D%3D?line=2'>3</a>\u001b[0m \u001b[39mimport\u001b[39;00m \u001b[39mmatplotlib\u001b[39;00m\u001b[39m.\u001b[39;00m\u001b[39mpyplot\u001b[39;00m \u001b[39mas\u001b[39;00m \u001b[39mplt\u001b[39;00m\n\u001b[1;32m      <a href='vscode-notebook-cell:/Users/josephine/Documents/Engineering%20/Part%20IIB/Score%20alignment%20project/Score-follower/GP_models/hyperparameter_investigation/onset_detection_validation.ipynb#W0sZmlsZQ%3D%3D?line=4'>5</a>\u001b[0m \u001b[39mimport\u001b[39;00m \u001b[39mscipy\u001b[39;00m\u001b[39m.\u001b[39;00m\u001b[39mio\u001b[39;00m\u001b[39m.\u001b[39;00m\u001b[39mwavfile\u001b[39;00m \u001b[39mas\u001b[39;00m \u001b[39mwav\u001b[39;00m\n",
      "File \u001b[0;32m~/Documents/Engineering /Part IIB/Score alignment project/Score-follower/GP_models/hyperparameter_investigation/onset_detection.py:4\u001b[0m\n\u001b[1;32m      2\u001b[0m \u001b[39mimport\u001b[39;00m \u001b[39mmatplotlib\u001b[39;00m\u001b[39m.\u001b[39;00m\u001b[39mpyplot\u001b[39;00m \u001b[39mas\u001b[39;00m \u001b[39mplt\u001b[39;00m\n\u001b[1;32m      3\u001b[0m \u001b[39mimport\u001b[39;00m \u001b[39mscipy\u001b[39;00m\u001b[39m.\u001b[39;00m\u001b[39mio\u001b[39;00m\u001b[39m.\u001b[39;00m\u001b[39mwavfile\u001b[39;00m \u001b[39mas\u001b[39;00m \u001b[39mwav\u001b[39;00m\n\u001b[0;32m----> 4\u001b[0m \u001b[39mimport\u001b[39;00m \u001b[39mhelper\u001b[39;00m\n\u001b[1;32m      5\u001b[0m \u001b[39mimport\u001b[39;00m \u001b[39mnumpy\u001b[39;00m \u001b[39mas\u001b[39;00m \u001b[39mnp\u001b[39;00m\n\u001b[1;32m      6\u001b[0m \u001b[39mfrom\u001b[39;00m \u001b[39mlibrosa\u001b[39;00m \u001b[39mimport\u001b[39;00m note_to_hz \u001b[39mas\u001b[39;00m hz\n",
      "\u001b[0;31mModuleNotFoundError\u001b[0m: No module named 'helper'"
     ]
    }
   ],
   "source": [
    "import numpy as np\n",
    "from onset_detection import detected_samples\n",
    "import matplotlib.pyplot as plt\n",
    "\n",
    "import scipy.io.wavfile as wav\n",
    "from datetime import datetime\n",
    "import least_squares\n",
    "import sys\n",
    "sys.path.append('/Users/josephine/Documents/Engineering /Part IIB/Score alignment project/Score-follower/midi')\n",
    "sys.path.append('/Users/josephine/Documents/Engineering /Part IIB/Score alignment project/Score-follower')\n",
    "from midi import process_midi_to_note_info, notes_to_chords, dict_to_frequency_list, plot_piece\n",
    "\n",
    "import helper"
   ]
  },
  {
   "cell_type": "code",
   "execution_count": null,
   "metadata": {},
   "outputs": [],
   "source": []
  }
 ],
 "metadata": {
  "kernelspec": {
   "display_name": "blog",
   "language": "python",
   "name": "python3"
  },
  "language_info": {
   "codemirror_mode": {
    "name": "ipython",
    "version": 3
   },
   "file_extension": ".py",
   "mimetype": "text/x-python",
   "name": "python",
   "nbconvert_exporter": "python",
   "pygments_lexer": "ipython3",
   "version": "3.9.18"
  }
 },
 "nbformat": 4,
 "nbformat_minor": 2
}
