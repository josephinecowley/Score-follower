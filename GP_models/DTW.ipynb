{
 "cells": [
  {
   "cell_type": "code",
   "execution_count": 1,
   "metadata": {},
   "outputs": [],
   "source": [
    "import numpy as np\n",
    "from onset_detection import detected_samples\n",
    "import matplotlib.pyplot as plt\n",
    "import helper\n",
    "\n",
    "from datetime import datetime"
   ]
  },
  {
   "cell_type": "code",
   "execution_count": 49,
   "metadata": {},
   "outputs": [
    {
     "name": "stderr",
     "output_type": "stream",
     "text": [
      "/Users/josephine/Documents/Engineering /Part IIB/Score alignment project/Score-follower/GP_models/onset_detection.py:13: WavFileWarning: Chunk (non-data) not understood, skipping it.\n",
      "  sample_rate, data = wav.read(path)\n"
     ]
    },
    {
     "data": {
      "image/png": "[encoded data removed]",
      "text/plain": [
       "<Figure size 432x288 with 1 Axes>"
      ]
     },
     "metadata": {
      "needs_background": "light"
     },
     "output_type": "display_data"
    },
    {
     "name": "stdout",
     "output_type": "stream",
     "text": [
      "sorted time keys:  [13.5, 15.0, 49.0, 76, 97, 287.89, 9876, 12987.4]\n",
      "scale frequencies:  [[262], [294], [330], [349], [392], [440], [494], [523]]\n",
      "[262]\n",
      "[294]\n",
      "[330]\n",
      "[349]\n",
      "[392]\n",
      "[440]\n",
      "[494]\n",
      "[523]\n"
     ]
    }
   ],
   "source": [
    "\n",
    "scale_dict = {13.5: [262], 15.0: [294], 49.0: [330], 76: [349], 97: [392], 287.89: [440], 9876: [494], 12987.4: [523]}  # Made up midi to chords file\n",
    "sorted_time_keys = sorted(scale_dict.keys(), reverse=False)\n",
    "scale = [scale_dict[key] for key in sorted_time_keys]\n",
    "\n",
    "sample_data, sample_rate = detected_samples(\n",
    "    '/Users/josephine/Documents/Engineering /Part IIB/Score alignment project/Score-follower/wav_files/scale.wav', sample_length=1500, offset=2000, show=True, delta=0.03, num_samples=100000)\n",
    "plt.show()\n",
    "time_samples = np.linspace(\n",
    "    0, len(sample_data[0])/sample_rate, len(sample_data[0]))\n",
    "prob_matrix = np.zeros((len(scale), len(sample_data)))\n",
    "\n",
    "print('sorted time keys: ', sorted_time_keys)\n",
    "print('scale frequencies: ' , scale)\n",
    "for notes in scale:\n",
    "    print(notes)"
   ]
  },
  {
   "cell_type": "code",
   "execution_count": null,
   "metadata": {},
   "outputs": [],
   "source": [
    "def oltw(sample_data, scale, time_samples):\n",
    "    note_num, audio_num = 0, 0\n",
    "    path = []\n",
    "    for sample in sample_data:\n",
    "        min_val = np.inf\n",
    "        current_notes_prob = helper.stable_nlml(time_samples=time_samples, Y=sample,  f=scale[note_num])\n",
    "        next_notes_prob = helper.stable_nlml(time_samples=time_samples, Y=sample,  f=scale[note_num+1])\n",
    "        next_next_notes_prob = helper.stable_nlml(time_samples=time_samples, Y=sample,  f=scale[note_num+2])\n",
    "        if current_notes_prob < min_val:\n",
    "            # Hasn't moved on\n",
    "            min_val = current_notes_prob\n",
    "            step = (note_num, audio_num+1)\n",
    "        if next_notes_prob < min_val:\n",
    "            # Has moved to next note\n",
    "            min_val = next_notes_prob\n",
    "            step = (note_num+1, audio_num+1)\n",
    "        if next_next_notes_prob < min_val:\n",
    "            # Has moved on to the next next one\n",
    "            min_val = next_next_notes_prob\n",
    "            step = (note_num+2, audio_num+1)\n",
    "        note_num, audio_num = step\n",
    "        path.append(step)\n",
    "    return path\n",
    "\n",
    "print(oltw(sample_data, scale, time_samples))"
   ]
  },
  {
   "cell_type": "code",
   "execution_count": null,
   "metadata": {},
   "outputs": [],
   "source": []
  },
  {
   "cell_type": "code",
   "execution_count": 15,
   "metadata": {},
   "outputs": [
    {
     "name": "stderr",
     "output_type": "stream",
     "text": [
      "0it [00:00, ?it/s]"
     ]
    },
    {
     "name": "stdout",
     "output_type": "stream",
     "text": [
      "[ 0.0567028   0.05086007  0.04485551 ... -0.01319092 -0.00803298\n",
      " -0.00308495]\n"
     ]
    },
    {
     "name": "stderr",
     "output_type": "stream",
     "text": [
      "100%|██████████| 15/15 [00:00<00:00, 31.15it/s]\n",
      "1it [00:00,  2.06it/s]\n",
      "0it [00:00, ?it/s]"
     ]
    },
    {
     "name": "stdout",
     "output_type": "stream",
     "text": [
      "[ 0.0567028   0.05086007  0.04485551 ... -0.01319092 -0.00803298\n",
      " -0.00308495]\n"
     ]
    },
    {
     "name": "stderr",
     "output_type": "stream",
     "text": [
      "100%|██████████| 15/15 [00:00<00:00, 34.39it/s]\n",
      "1it [00:00,  2.28it/s]\n",
      "0it [00:00, ?it/s]"
     ]
    },
    {
     "name": "stdout",
     "output_type": "stream",
     "text": [
      "[ 0.0567028   0.05086007  0.04485551 ... -0.01319092 -0.00803298\n",
      " -0.00308495]\n"
     ]
    },
    {
     "name": "stderr",
     "output_type": "stream",
     "text": [
      "100%|██████████| 15/15 [00:00<00:00, 33.68it/s]\n",
      "1it [00:00,  2.23it/s]\n",
      "0it [00:00, ?it/s]"
     ]
    },
    {
     "name": "stdout",
     "output_type": "stream",
     "text": [
      "[ 0.0567028   0.05086007  0.04485551 ... -0.01319092 -0.00803298\n",
      " -0.00308495]\n"
     ]
    },
    {
     "name": "stderr",
     "output_type": "stream",
     "text": [
      "100%|██████████| 15/15 [00:00<00:00, 32.47it/s]\n",
      "1it [00:00,  2.15it/s]\n",
      "0it [00:00, ?it/s]"
     ]
    },
    {
     "name": "stdout",
     "output_type": "stream",
     "text": [
      "[-0.0021508  -0.00414113 -0.00619756 ...  0.00538485  0.00461123\n",
      "  0.00406662]\n"
     ]
    },
    {
     "name": "stderr",
     "output_type": "stream",
     "text": [
      "100%|██████████| 15/15 [00:00<00:00, 36.56it/s]\n",
      "1it [00:00,  2.42it/s]\n",
      "0it [00:00, ?it/s]"
     ]
    },
    {
     "name": "stdout",
     "output_type": "stream",
     "text": [
      "[-0.0021508  -0.00414113 -0.00619756 ...  0.00538485  0.00461123\n",
      "  0.00406662]\n"
     ]
    },
    {
     "name": "stderr",
     "output_type": "stream",
     "text": [
      "100%|██████████| 15/15 [00:00<00:00, 36.40it/s]\n",
      "1it [00:00,  2.41it/s]\n",
      "0it [00:00, ?it/s]"
     ]
    },
    {
     "name": "stdout",
     "output_type": "stream",
     "text": [
      "[-0.0021508  -0.00414113 -0.00619756 ...  0.00538485  0.00461123\n",
      "  0.00406662]\n"
     ]
    },
    {
     "name": "stderr",
     "output_type": "stream",
     "text": [
      "100%|██████████| 15/15 [00:00<00:00, 34.02it/s]\n",
      "1it [00:00,  2.25it/s]\n",
      "0it [00:00, ?it/s]"
     ]
    },
    {
     "name": "stdout",
     "output_type": "stream",
     "text": [
      "[-0.0021508  -0.00414113 -0.00619756 ...  0.00538485  0.00461123\n",
      "  0.00406662]\n"
     ]
    },
    {
     "name": "stderr",
     "output_type": "stream",
     "text": [
      "100%|██████████| 15/15 [00:00<00:00, 36.43it/s]\n",
      "1it [00:00,  2.41it/s]\n",
      "0it [00:00, ?it/s]"
     ]
    },
    {
     "name": "stdout",
     "output_type": "stream",
     "text": [
      "[ 0.00488705  0.01585832  0.02589735 ... -0.06215393 -0.05334185\n",
      " -0.04322193]\n"
     ]
    },
    {
     "name": "stderr",
     "output_type": "stream",
     "text": [
      "100%|██████████| 15/15 [00:00<00:00, 35.82it/s]\n",
      "1it [00:00,  2.37it/s]\n",
      "0it [00:00, ?it/s]"
     ]
    },
    {
     "name": "stdout",
     "output_type": "stream",
     "text": [
      "[ 0.00488705  0.01585832  0.02589735 ... -0.06215393 -0.05334185\n",
      " -0.04322193]\n"
     ]
    },
    {
     "name": "stderr",
     "output_type": "stream",
     "text": [
      "100%|██████████| 15/15 [00:00<00:00, 35.69it/s]\n",
      "1it [00:00,  2.36it/s]\n",
      "0it [00:00, ?it/s]"
     ]
    },
    {
     "name": "stdout",
     "output_type": "stream",
     "text": [
      "[ 0.00488705  0.01585832  0.02589735 ... -0.06215393 -0.05334185\n",
      " -0.04322193]\n"
     ]
    },
    {
     "name": "stderr",
     "output_type": "stream",
     "text": [
      "100%|██████████| 15/15 [00:00<00:00, 32.60it/s]\n",
      "1it [00:00,  2.14it/s]\n",
      "0it [00:00, ?it/s]"
     ]
    },
    {
     "name": "stdout",
     "output_type": "stream",
     "text": [
      "[ 0.00488705  0.01585832  0.02589735 ... -0.06215393 -0.05334185\n",
      " -0.04322193]\n"
     ]
    },
    {
     "name": "stderr",
     "output_type": "stream",
     "text": [
      "100%|██████████| 15/15 [00:00<00:00, 32.72it/s]\n",
      "1it [00:00,  2.17it/s]\n",
      "0it [00:00, ?it/s]"
     ]
    },
    {
     "name": "stdout",
     "output_type": "stream",
     "text": [
      "[0.068198   0.06382848 0.0582834  ... 0.08564028 0.08499559 0.08457639]\n"
     ]
    },
    {
     "name": "stderr",
     "output_type": "stream",
     "text": [
      "100%|██████████| 15/15 [00:00<00:00, 35.84it/s]\n",
      "1it [00:00,  2.37it/s]\n",
      "0it [00:00, ?it/s]"
     ]
    },
    {
     "name": "stdout",
     "output_type": "stream",
     "text": [
      "[0.068198   0.06382848 0.0582834  ... 0.08564028 0.08499559 0.08457639]\n"
     ]
    },
    {
     "name": "stderr",
     "output_type": "stream",
     "text": [
      "100%|██████████| 15/15 [00:00<00:00, 36.55it/s]\n",
      "1it [00:00,  2.42it/s]\n",
      "0it [00:00, ?it/s]"
     ]
    },
    {
     "name": "stdout",
     "output_type": "stream",
     "text": [
      "[0.068198   0.06382848 0.0582834  ... 0.08564028 0.08499559 0.08457639]\n"
     ]
    },
    {
     "name": "stderr",
     "output_type": "stream",
     "text": [
      "100%|██████████| 15/15 [00:00<00:00, 36.75it/s]\n",
      "1it [00:00,  2.43it/s]\n",
      "0it [00:00, ?it/s]"
     ]
    },
    {
     "name": "stdout",
     "output_type": "stream",
     "text": [
      "[0.068198   0.06382848 0.0582834  ... 0.08564028 0.08499559 0.08457639]\n"
     ]
    },
    {
     "name": "stderr",
     "output_type": "stream",
     "text": [
      "100%|██████████| 15/15 [00:00<00:00, 36.81it/s]\n",
      "1it [00:00,  2.44it/s]\n",
      "0it [00:00, ?it/s]"
     ]
    },
    {
     "name": "stdout",
     "output_type": "stream",
     "text": [
      "[ 0.01677044  0.01718609  0.0176674  ... -0.01906556 -0.02463407\n",
      " -0.02813427]\n"
     ]
    },
    {
     "name": "stderr",
     "output_type": "stream",
     "text": [
      "100%|██████████| 15/15 [00:00<00:00, 35.59it/s]\n",
      "1it [00:00,  2.36it/s]\n",
      "0it [00:00, ?it/s]"
     ]
    },
    {
     "name": "stdout",
     "output_type": "stream",
     "text": [
      "[ 0.01677044  0.01718609  0.0176674  ... -0.01906556 -0.02463407\n",
      " -0.02813427]\n"
     ]
    },
    {
     "name": "stderr",
     "output_type": "stream",
     "text": [
      "100%|██████████| 15/15 [00:00<00:00, 36.31it/s]\n",
      "1it [00:00,  2.40it/s]\n",
      "0it [00:00, ?it/s]"
     ]
    },
    {
     "name": "stdout",
     "output_type": "stream",
     "text": [
      "[ 0.01677044  0.01718609  0.0176674  ... -0.01906556 -0.02463407\n",
      " -0.02813427]\n"
     ]
    },
    {
     "name": "stderr",
     "output_type": "stream",
     "text": [
      "100%|██████████| 15/15 [00:00<00:00, 36.84it/s]\n",
      "1it [00:00,  2.44it/s]\n",
      "0it [00:00, ?it/s]"
     ]
    },
    {
     "name": "stdout",
     "output_type": "stream",
     "text": [
      "[ 0.01677044  0.01718609  0.0176674  ... -0.01906556 -0.02463407\n",
      " -0.02813427]\n"
     ]
    },
    {
     "name": "stderr",
     "output_type": "stream",
     "text": [
      "100%|██████████| 15/15 [00:00<00:00, 37.00it/s]\n",
      "1it [00:00,  2.45it/s]\n",
      "0it [00:00, ?it/s]"
     ]
    },
    {
     "name": "stdout",
     "output_type": "stream",
     "text": [
      "[-0.07092147 -0.07161049 -0.07386088 ... -0.03177359 -0.04132187\n",
      " -0.05019915]\n"
     ]
    },
    {
     "name": "stderr",
     "output_type": "stream",
     "text": [
      "100%|██████████| 15/15 [00:00<00:00, 34.87it/s]\n",
      "1it [00:00,  2.31it/s]\n",
      "0it [00:00, ?it/s]"
     ]
    },
    {
     "name": "stdout",
     "output_type": "stream",
     "text": [
      "[-0.07092147 -0.07161049 -0.07386088 ... -0.03177359 -0.04132187\n",
      " -0.05019915]\n"
     ]
    },
    {
     "name": "stderr",
     "output_type": "stream",
     "text": [
      "100%|██████████| 15/15 [00:00<00:00, 36.64it/s]\n",
      "1it [00:00,  2.43it/s]\n",
      "0it [00:00, ?it/s]"
     ]
    },
    {
     "name": "stdout",
     "output_type": "stream",
     "text": [
      "[-0.07092147 -0.07161049 -0.07386088 ... -0.03177359 -0.04132187\n",
      " -0.05019915]\n"
     ]
    },
    {
     "name": "stderr",
     "output_type": "stream",
     "text": [
      "100%|██████████| 15/15 [00:00<00:00, 36.14it/s]\n",
      "1it [00:00,  2.39it/s]\n",
      "0it [00:00, ?it/s]"
     ]
    },
    {
     "name": "stdout",
     "output_type": "stream",
     "text": [
      "[-0.07092147 -0.07161049 -0.07386088 ... -0.03177359 -0.04132187\n",
      " -0.05019915]\n"
     ]
    },
    {
     "name": "stderr",
     "output_type": "stream",
     "text": [
      "100%|██████████| 15/15 [00:00<00:00, 36.79it/s]\n",
      "1it [00:00,  2.44it/s]\n"
     ]
    }
   ],
   "source": [
    "def lml_table(sample_data, scale):\n",
    "    for i, sample in enumerate(sample_data):\n",
    "        for j in range(len(scale)):\n",
    "            prob_matrix[j, i] = helper.stable_nlml(time_samples, sample, f=scale[j])\n",
    "    return prob_matrix\n",
    "\n",
    "prob_mat = lml_table(sample_data, scale)"
   ]
  },
  {
   "cell_type": "code",
   "execution_count": 16,
   "metadata": {},
   "outputs": [
    {
     "data": {
      "image/png": "[encoded data removed]",
      "text/plain": [
       "<Figure size 432x288 with 2 Axes>"
      ]
     },
     "metadata": {
      "needs_background": "light"
     },
     "output_type": "display_data"
    }
   ],
   "source": [
    "plt.imshow(prob_mat, cmap='Spectral', interpolation='nearest')\n",
    "plt.title(\"NLML\")\n",
    "plt.colorbar()\n",
    "plt.xlabel(\"Audio sample number\")\n",
    "plt.ylabel(\"Note in piece\")\n",
    "plt.yticks(range(len(prob_mat)))\n",
    "plt.show()"
   ]
  },
  {
   "cell_type": "code",
   "execution_count": 17,
   "metadata": {},
   "outputs": [
    {
     "name": "stdout",
     "output_type": "stream",
     "text": [
      "[[-6641.62772705 -6676.58125837   186.72302477 33156.84922748\n",
      "  -3786.39894122 22443.81694993]\n",
      " [10455.07850761 -5572.921462   -6014.91598131  -406.43495516\n",
      "  -5771.47186649 14935.46389152]\n",
      " [14375.19923678 -5330.91665192  -447.15618385 -6427.23487009\n",
      "  -6132.09641231 -4354.08945841]\n",
      " [14464.86215519 -5332.09256669  3727.89786058 -3868.25721382\n",
      "  -6262.02246184 -6228.59875011]]\n"
     ]
    }
   ],
   "source": [
    "print(prob_mat)"
   ]
  },
  {
   "cell_type": "code",
   "execution_count": 20,
   "metadata": {},
   "outputs": [],
   "source": [
    "\n",
    "def min_path(table):\n",
    "    i, j = 0, 0\n",
    "    path = [(i,j)]\n",
    "    # While less than number of audio samples\n",
    "    while i < table.shape[1]-2:\n",
    "        minval = np.inf\n",
    "        if table[i+1, j] < minval:\n",
    "            minval = table[i+1, j]\n",
    "            step = (i+1, j)\n",
    "        if table[i+1, j+1] < minval:\n",
    "            minval = table[i+1, j+1]\n",
    "            step = (i+1, j+1)\n",
    "        if table[i+1, j+2] < minval:\n",
    "            minval = table[i+1, j+2]\n",
    "            step = (i+1, j+2)\n",
    "        path.append(step)\n",
    "        i,j = step\n",
    "    return np.array(path)"
   ]
  },
  {
   "cell_type": "code",
   "execution_count": 21,
   "metadata": {},
   "outputs": [
    {
     "ename": "IndexError",
     "evalue": "index 4 is out of bounds for axis 0 with size 4",
     "output_type": "error",
     "traceback": [
      "\u001b[0;31m---------------------------------------------------------------------------\u001b[0m",
      "\u001b[0;31mIndexError\u001b[0m                                Traceback (most recent call last)",
      "\u001b[0;32m<ipython-input-21-40eeade0a4b9>\u001b[0m in \u001b[0;36m<module>\u001b[0;34m\u001b[0m\n\u001b[0;32m----> 1\u001b[0;31m \u001b[0mpath\u001b[0m \u001b[0;34m=\u001b[0m \u001b[0mmin_path\u001b[0m\u001b[0;34m(\u001b[0m\u001b[0mprob_mat\u001b[0m\u001b[0;34m)\u001b[0m\u001b[0;34m\u001b[0m\u001b[0;34m\u001b[0m\u001b[0m\n\u001b[0m\u001b[1;32m      2\u001b[0m \u001b[0mprint\u001b[0m\u001b[0;34m(\u001b[0m\u001b[0mpath\u001b[0m\u001b[0;34m)\u001b[0m\u001b[0;34m\u001b[0m\u001b[0;34m\u001b[0m\u001b[0m\n",
      "\u001b[0;32m<ipython-input-20-ae7f7325f9ae>\u001b[0m in \u001b[0;36mmin_path\u001b[0;34m(table)\u001b[0m\n\u001b[1;32m      5\u001b[0m     \u001b[0;32mwhile\u001b[0m \u001b[0mi\u001b[0m \u001b[0;34m<\u001b[0m \u001b[0mtable\u001b[0m\u001b[0;34m.\u001b[0m\u001b[0mshape\u001b[0m\u001b[0;34m[\u001b[0m\u001b[0;36m1\u001b[0m\u001b[0;34m]\u001b[0m\u001b[0;34m-\u001b[0m\u001b[0;36m2\u001b[0m\u001b[0;34m:\u001b[0m\u001b[0;34m\u001b[0m\u001b[0;34m\u001b[0m\u001b[0m\n\u001b[1;32m      6\u001b[0m         \u001b[0mminval\u001b[0m \u001b[0;34m=\u001b[0m \u001b[0mnp\u001b[0m\u001b[0;34m.\u001b[0m\u001b[0minf\u001b[0m\u001b[0;34m\u001b[0m\u001b[0;34m\u001b[0m\u001b[0m\n\u001b[0;32m----> 7\u001b[0;31m         \u001b[0;32mif\u001b[0m \u001b[0mtable\u001b[0m\u001b[0;34m[\u001b[0m\u001b[0mi\u001b[0m\u001b[0;34m+\u001b[0m\u001b[0;36m1\u001b[0m\u001b[0;34m,\u001b[0m \u001b[0mj\u001b[0m\u001b[0;34m]\u001b[0m \u001b[0;34m<\u001b[0m \u001b[0mminval\u001b[0m\u001b[0;34m:\u001b[0m\u001b[0;34m\u001b[0m\u001b[0;34m\u001b[0m\u001b[0m\n\u001b[0m\u001b[1;32m      8\u001b[0m             \u001b[0mminval\u001b[0m \u001b[0;34m=\u001b[0m \u001b[0mtable\u001b[0m\u001b[0;34m[\u001b[0m\u001b[0mi\u001b[0m\u001b[0;34m+\u001b[0m\u001b[0;36m1\u001b[0m\u001b[0;34m,\u001b[0m \u001b[0mj\u001b[0m\u001b[0;34m]\u001b[0m\u001b[0;34m\u001b[0m\u001b[0;34m\u001b[0m\u001b[0m\n\u001b[1;32m      9\u001b[0m             \u001b[0mstep\u001b[0m \u001b[0;34m=\u001b[0m \u001b[0;34m(\u001b[0m\u001b[0mi\u001b[0m\u001b[0;34m+\u001b[0m\u001b[0;36m1\u001b[0m\u001b[0;34m,\u001b[0m \u001b[0mj\u001b[0m\u001b[0;34m)\u001b[0m\u001b[0;34m\u001b[0m\u001b[0;34m\u001b[0m\u001b[0m\n",
      "\u001b[0;31mIndexError\u001b[0m: index 4 is out of bounds for axis 0 with size 4"
     ]
    }
   ],
   "source": [
    "path = min_path(prob_mat)\n",
    "print(path)"
   ]
  },
  {
   "cell_type": "code",
   "execution_count": null,
   "metadata": {},
   "outputs": [],
   "source": []
  }
 ],
 "metadata": {
  "kernelspec": {
   "display_name": "base",
   "language": "python",
   "name": "python3"
  },
  "language_info": {
   "codemirror_mode": {
    "name": "ipython",
    "version": 3
   },
   "file_extension": ".py",
   "mimetype": "text/x-python",
   "name": "python",
   "nbconvert_exporter": "python",
   "pygments_lexer": "ipython3",
   "version": "3.8.5"
  }
 },
 "nbformat": 4,
 "nbformat_minor": 2
}
