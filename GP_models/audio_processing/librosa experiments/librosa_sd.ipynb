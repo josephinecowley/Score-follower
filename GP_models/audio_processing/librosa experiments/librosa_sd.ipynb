{
 "cells": [
  {
   "cell_type": "code",
   "execution_count": 15,
   "metadata": {},
   "outputs": [
    {
     "ename": "LibsndfileError",
     "evalue": "Error opening '/Users/josephine/Documents/Engineering /Part IIB/Score alignment project/Score-follower/GP_models/audio_processing/librosa experiments/experiment.wav': System error.",
     "output_type": "error",
     "traceback": [
      "\u001b[0;31m---------------------------------------------------------------------------\u001b[0m",
      "\u001b[0;31mLibsndfileError\u001b[0m                           Traceback (most recent call last)",
      "\u001b[1;32m/Users/josephine/Documents/Engineering /Part IIB/Score alignment project/Score-follower/GP_models/audio_processing/librosa experiments/librosa_sd.ipynb Cell 1\u001b[0m line \u001b[0;36m2\n\u001b[1;32m     <a href='vscode-notebook-cell:/Users/josephine/Documents/Engineering%20/Part%20IIB/Score%20alignment%20project/Score-follower/GP_models/audio_processing/librosa%20experiments/librosa_sd.ipynb#W0sZmlsZQ%3D%3D?line=13'>14</a>\u001b[0m audio_stream \u001b[39m=\u001b[39m librosa\u001b[39m.\u001b[39mstream(\n\u001b[1;32m     <a href='vscode-notebook-cell:/Users/josephine/Documents/Engineering%20/Part%20IIB/Score%20alignment%20project/Score-follower/GP_models/audio_processing/librosa%20experiments/librosa_sd.ipynb#W0sZmlsZQ%3D%3D?line=14'>15</a>\u001b[0m         \u001b[39m\"\u001b[39m\u001b[39m/Users/josephine/Documents/Engineering /Part IIB/Score alignment project/Score-follower/GP_models/audio_processing/librosa experiments/experiment.wav\u001b[39m\u001b[39m\"\u001b[39m,\n\u001b[1;32m     <a href='vscode-notebook-cell:/Users/josephine/Documents/Engineering%20/Part%20IIB/Score%20alignment%20project/Score-follower/GP_models/audio_processing/librosa%20experiments/librosa_sd.ipynb#W0sZmlsZQ%3D%3D?line=15'>16</a>\u001b[0m         block_length\u001b[39m=\u001b[39m\u001b[39m100\u001b[39m,\n\u001b[0;32m   (...)\u001b[0m\n\u001b[1;32m     <a href='vscode-notebook-cell:/Users/josephine/Documents/Engineering%20/Part%20IIB/Score%20alignment%20project/Score-follower/GP_models/audio_processing/librosa%20experiments/librosa_sd.ipynb#W0sZmlsZQ%3D%3D?line=20'>21</a>\u001b[0m         duration\u001b[39m=\u001b[39m\u001b[39m10\u001b[39m,\n\u001b[1;32m     <a href='vscode-notebook-cell:/Users/josephine/Documents/Engineering%20/Part%20IIB/Score%20alignment%20project/Score-follower/GP_models/audio_processing/librosa%20experiments/librosa_sd.ipynb#W0sZmlsZQ%3D%3D?line=21'>22</a>\u001b[0m     )\n\u001b[1;32m     <a href='vscode-notebook-cell:/Users/josephine/Documents/Engineering%20/Part%20IIB/Score%20alignment%20project/Score-follower/GP_models/audio_processing/librosa%20experiments/librosa_sd.ipynb#W0sZmlsZQ%3D%3D?line=22'>23</a>\u001b[0m time\u001b[39m.\u001b[39msleep(\u001b[39m0.5\u001b[39m)\n\u001b[0;32m---> <a href='vscode-notebook-cell:/Users/josephine/Documents/Engineering%20/Part%20IIB/Score%20alignment%20project/Score-follower/GP_models/audio_processing/librosa%20experiments/librosa_sd.ipynb#W0sZmlsZQ%3D%3D?line=23'>24</a>\u001b[0m \u001b[39mfor\u001b[39;00m s \u001b[39min\u001b[39;00m audio_stream:\n\u001b[1;32m     <a href='vscode-notebook-cell:/Users/josephine/Documents/Engineering%20/Part%20IIB/Score%20alignment%20project/Score-follower/GP_models/audio_processing/librosa%20experiments/librosa_sd.ipynb#W0sZmlsZQ%3D%3D?line=24'>25</a>\u001b[0m     time\u001b[39m.\u001b[39msleep(\u001b[39m0.5\u001b[39m)\n\u001b[1;32m     <a href='vscode-notebook-cell:/Users/josephine/Documents/Engineering%20/Part%20IIB/Score%20alignment%20project/Score-follower/GP_models/audio_processing/librosa%20experiments/librosa_sd.ipynb#W0sZmlsZQ%3D%3D?line=25'>26</a>\u001b[0m     slice_queue\u001b[39m.\u001b[39mput(s)\n",
      "File \u001b[0;32m~/opt/anaconda3/envs/blog/lib/python3.9/site-packages/librosa/core/audio.py:441\u001b[0m, in \u001b[0;36mstream\u001b[0;34m(path, block_length, frame_length, hop_length, mono, offset, duration, fill_value, dtype)\u001b[0m\n\u001b[1;32m    439\u001b[0m     sfo \u001b[39m=\u001b[39m path\n\u001b[1;32m    440\u001b[0m \u001b[39melse\u001b[39;00m:\n\u001b[0;32m--> 441\u001b[0m     sfo \u001b[39m=\u001b[39m sf\u001b[39m.\u001b[39;49mSoundFile(path)\n\u001b[1;32m    443\u001b[0m \u001b[39m# Get the sample rate from the file info\u001b[39;00m\n\u001b[1;32m    444\u001b[0m sr \u001b[39m=\u001b[39m sfo\u001b[39m.\u001b[39msamplerate\n",
      "File \u001b[0;32m~/opt/anaconda3/envs/blog/lib/python3.9/site-packages/soundfile.py:658\u001b[0m, in \u001b[0;36mSoundFile.__init__\u001b[0;34m(self, file, mode, samplerate, channels, subtype, endian, format, closefd)\u001b[0m\n\u001b[1;32m    655\u001b[0m \u001b[39mself\u001b[39m\u001b[39m.\u001b[39m_mode \u001b[39m=\u001b[39m mode\n\u001b[1;32m    656\u001b[0m \u001b[39mself\u001b[39m\u001b[39m.\u001b[39m_info \u001b[39m=\u001b[39m _create_info_struct(file, mode, samplerate, channels,\n\u001b[1;32m    657\u001b[0m                                  \u001b[39mformat\u001b[39m, subtype, endian)\n\u001b[0;32m--> 658\u001b[0m \u001b[39mself\u001b[39m\u001b[39m.\u001b[39m_file \u001b[39m=\u001b[39m \u001b[39mself\u001b[39;49m\u001b[39m.\u001b[39;49m_open(file, mode_int, closefd)\n\u001b[1;32m    659\u001b[0m \u001b[39mif\u001b[39;00m \u001b[39mset\u001b[39m(mode)\u001b[39m.\u001b[39missuperset(\u001b[39m'\u001b[39m\u001b[39mr+\u001b[39m\u001b[39m'\u001b[39m) \u001b[39mand\u001b[39;00m \u001b[39mself\u001b[39m\u001b[39m.\u001b[39mseekable():\n\u001b[1;32m    660\u001b[0m     \u001b[39m# Move write position to 0 (like in Python file objects)\u001b[39;00m\n\u001b[1;32m    661\u001b[0m     \u001b[39mself\u001b[39m\u001b[39m.\u001b[39mseek(\u001b[39m0\u001b[39m)\n",
      "File \u001b[0;32m~/opt/anaconda3/envs/blog/lib/python3.9/site-packages/soundfile.py:1216\u001b[0m, in \u001b[0;36mSoundFile._open\u001b[0;34m(self, file, mode_int, closefd)\u001b[0m\n\u001b[1;32m   1213\u001b[0m \u001b[39mif\u001b[39;00m file_ptr \u001b[39m==\u001b[39m _ffi\u001b[39m.\u001b[39mNULL:\n\u001b[1;32m   1214\u001b[0m     \u001b[39m# get the actual error code\u001b[39;00m\n\u001b[1;32m   1215\u001b[0m     err \u001b[39m=\u001b[39m _snd\u001b[39m.\u001b[39msf_error(file_ptr)\n\u001b[0;32m-> 1216\u001b[0m     \u001b[39mraise\u001b[39;00m LibsndfileError(err, prefix\u001b[39m=\u001b[39m\u001b[39m\"\u001b[39m\u001b[39mError opening \u001b[39m\u001b[39m{0!r}\u001b[39;00m\u001b[39m: \u001b[39m\u001b[39m\"\u001b[39m\u001b[39m.\u001b[39mformat(\u001b[39mself\u001b[39m\u001b[39m.\u001b[39mname))\n\u001b[1;32m   1217\u001b[0m \u001b[39mif\u001b[39;00m mode_int \u001b[39m==\u001b[39m _snd\u001b[39m.\u001b[39mSFM_WRITE:\n\u001b[1;32m   1218\u001b[0m     \u001b[39m# Due to a bug in libsndfile version <= 1.0.25, frames != 0\u001b[39;00m\n\u001b[1;32m   1219\u001b[0m     \u001b[39m# when opening a named pipe in SFM_WRITE mode.\u001b[39;00m\n\u001b[1;32m   1220\u001b[0m     \u001b[39m# See http://github.com/erikd/libsndfile/issues/77.\u001b[39;00m\n\u001b[1;32m   1221\u001b[0m     \u001b[39mself\u001b[39m\u001b[39m.\u001b[39m_info\u001b[39m.\u001b[39mframes \u001b[39m=\u001b[39m \u001b[39m0\u001b[39m\n",
      "\u001b[0;31mLibsndfileError\u001b[0m: Error opening '/Users/josephine/Documents/Engineering /Part IIB/Score alignment project/Score-follower/GP_models/audio_processing/librosa experiments/experiment.wav': System error."
     ]
    }
   ],
   "source": [
    "import sounddevice as sd\n",
    "import librosa\n",
    "import librosa.display\n",
    "import matplotlib.pyplot as plt\n",
    "import time\n",
    "import multiprocessing as mp\n",
    "\n",
    "import sharedtypes\n",
    "from sharedtypes import ExtractedFeatureQueue\n",
    "\n",
    "\n",
    "frame_length = 2048\n",
    "slice_queue: ExtractedFeatureQueue = mp.Queue()\n",
    "audio_stream = librosa.stream(\n",
    "        \"/Users/josephine/Documents/Engineering /Part IIB/Score alignment project/Score-follower/GP_models/audio_processing/librosa experiments/experiment.wav\",\n",
    "        block_length=100,\n",
    "        frame_length=2000,\n",
    "        hop_length=20000,\n",
    "        mono=True,\n",
    "        fill_value=0,\n",
    "        duration=10,\n",
    "    )\n",
    "time.sleep(0.5)\n",
    "for s in audio_stream:\n",
    "    time.sleep(0.5)\n",
    "    slice_queue.put(s)\n",
    "    print(s)\n",
    "self.slice_queue.put(None)"
   ]
  },
  {
   "cell_type": "code",
   "execution_count": 5,
   "metadata": {},
   "outputs": [
    {
     "name": "stderr",
     "output_type": "stream",
     "text": [
      "Downloading file 'Hungarian_Dance_number_5_-_Allegro_in_F_sharp_minor_(string_orchestra).ogg' from 'https://librosa.org/data/audio/Hungarian_Dance_number_5_-_Allegro_in_F_sharp_minor_(string_orchestra).ogg' to '/Users/josephine/Library/Caches/librosa'.\n"
     ]
    }
   ],
   "source": [
    "\n",
    "\n",
    "\n",
    "        # before starting, sleep for frame_length if performance\n",
    "\n",
    "\n",
    "for s in audio_stream:\n",
    "    pre_sleep_time = time.perf_counter()\n",
    "    slice_queue.put(s)\n",
    "    # sleep for hop length if performance\n",
    "    __sleep_if_performance(hop_length, pre_sleep_time)\n",
    "\n",
    "slice_queue.put(None) \n"
   ]
  },
  {
   "cell_type": "code",
   "execution_count": 9,
   "metadata": {},
   "outputs": [],
   "source": [
    "for i in stream:\n",
    "    print(type(i))"
   ]
  },
  {
   "cell_type": "code",
   "execution_count": null,
   "metadata": {},
   "outputs": [],
   "source": []
  }
 ],
 "metadata": {
  "kernelspec": {
   "display_name": "blog",
   "language": "python",
   "name": "python3"
  },
  "language_info": {
   "codemirror_mode": {
    "name": "ipython",
    "version": 3
   },
   "file_extension": ".py",
   "mimetype": "text/x-python",
   "name": "python",
   "nbconvert_exporter": "python",
   "pygments_lexer": "ipython3",
   "version": "3.9.18"
  }
 },
 "nbformat": 4,
 "nbformat_minor": 2
}
