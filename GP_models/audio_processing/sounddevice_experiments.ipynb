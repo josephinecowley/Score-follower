{
 "cells": [
  {
   "cell_type": "code",
   "execution_count": 20,
   "metadata": {},
   "outputs": [
    {
     "ename": "UnboundLocalError",
     "evalue": "local variable 'callback_count' referenced before assignment",
     "output_type": "error",
     "traceback": [
      "\u001b[0;31m---------------------------------------------------------------------------\u001b[0m",
      "\u001b[0;31mUnboundLocalError\u001b[0m                         Traceback (most recent call last)",
      "\u001b[1;32m/Users/josephine/Documents/Engineering /Part IIB/Score alignment project/Score-follower/GP_models/audio_processing/sounddevice_experiments.ipynb Cell 1\u001b[0m line \u001b[0;36m6\n\u001b[1;32m     <a href='vscode-notebook-cell:/Users/josephine/Documents/Engineering%20/Part%20IIB/Score%20alignment%20project/Score-follower/GP_models/audio_processing/sounddevice_experiments.ipynb#W0sZmlsZQ%3D%3D?line=57'>58</a>\u001b[0m     stream \u001b[39m=\u001b[39m sd\u001b[39m.\u001b[39mInputStream(callback\u001b[39m=\u001b[39mcallback, channels\u001b[39m=\u001b[39m\u001b[39m1\u001b[39m, samplerate\u001b[39m=\u001b[39msample_rate, blocksize\u001b[39m=\u001b[39msample_size)\n\u001b[1;32m     <a href='vscode-notebook-cell:/Users/josephine/Documents/Engineering%20/Part%20IIB/Score%20alignment%20project/Score-follower/GP_models/audio_processing/sounddevice_experiments.ipynb#W0sZmlsZQ%3D%3D?line=58'>59</a>\u001b[0m     stream\u001b[39m.\u001b[39mstart()\n\u001b[0;32m---> <a href='vscode-notebook-cell:/Users/josephine/Documents/Engineering%20/Part%20IIB/Score%20alignment%20project/Score-follower/GP_models/audio_processing/sounddevice_experiments.ipynb#W0sZmlsZQ%3D%3D?line=59'>60</a>\u001b[0m     location()\n\u001b[1;32m     <a href='vscode-notebook-cell:/Users/josephine/Documents/Engineering%20/Part%20IIB/Score%20alignment%20project/Score-follower/GP_models/audio_processing/sounddevice_experiments.ipynb#W0sZmlsZQ%3D%3D?line=60'>61</a>\u001b[0m \u001b[39mexcept\u001b[39;00m \u001b[39mKeyboardInterrupt\u001b[39;00m:\n\u001b[1;32m     <a href='vscode-notebook-cell:/Users/josephine/Documents/Engineering%20/Part%20IIB/Score%20alignment%20project/Score-follower/GP_models/audio_processing/sounddevice_experiments.ipynb#W0sZmlsZQ%3D%3D?line=61'>62</a>\u001b[0m     \u001b[39mprint\u001b[39m(\u001b[39m'\u001b[39m\u001b[39m\\n\u001b[39;00m\u001b[39mTerminating...\u001b[39m\u001b[39m'\u001b[39m)\n",
      "\u001b[1;32m/Users/josephine/Documents/Engineering /Part IIB/Score alignment project/Score-follower/GP_models/audio_processing/sounddevice_experiments.ipynb Cell 1\u001b[0m line \u001b[0;36m4\n\u001b[1;32m     <a href='vscode-notebook-cell:/Users/josephine/Documents/Engineering%20/Part%20IIB/Score%20alignment%20project/Score-follower/GP_models/audio_processing/sounddevice_experiments.ipynb#W0sZmlsZQ%3D%3D?line=44'>45</a>\u001b[0m     \u001b[39mprint\u001b[39m(\u001b[39mlen\u001b[39m(data))\n\u001b[1;32m     <a href='vscode-notebook-cell:/Users/josephine/Documents/Engineering%20/Part%20IIB/Score%20alignment%20project/Score-follower/GP_models/audio_processing/sounddevice_experiments.ipynb#W0sZmlsZQ%3D%3D?line=47'>48</a>\u001b[0m \u001b[39m# Increment the callback count\u001b[39;00m\n\u001b[0;32m---> <a href='vscode-notebook-cell:/Users/josephine/Documents/Engineering%20/Part%20IIB/Score%20alignment%20project/Score-follower/GP_models/audio_processing/sounddevice_experiments.ipynb#W0sZmlsZQ%3D%3D?line=48'>49</a>\u001b[0m callback_count \u001b[39m+\u001b[39m\u001b[39m=\u001b[39m \u001b[39m1\u001b[39m\n\u001b[1;32m     <a href='vscode-notebook-cell:/Users/josephine/Documents/Engineering%20/Part%20IIB/Score%20alignment%20project/Score-follower/GP_models/audio_processing/sounddevice_experiments.ipynb#W0sZmlsZQ%3D%3D?line=49'>50</a>\u001b[0m \u001b[39mreturn\u001b[39;00m\n",
      "\u001b[0;31mUnboundLocalError\u001b[0m: local variable 'callback_count' referenced before assignment"
     ]
    }
   ],
   "source": [
    "import sounddevice as sd\n",
    "import numpy as np\n",
    "import time\n",
    "import queue\n",
    "import sys\n",
    "sys.path.append('/Users/josephine/Documents/Engineering /Part IIB/Score alignment project/Score-follower/GP_models')\n",
    "import helper\n",
    "\n",
    "\n",
    "sample_rate = 44100\n",
    "sample_size = 1000\n",
    "hop_size = 50\n",
    "\n",
    "time_samples = np.linspace(0, sample_size/sample_rate, sample_size)\n",
    "q = queue.Queue()\n",
    "\n",
    "\n",
    "def callback(indata, frames, time, status):\n",
    "    global callback_count\n",
    "    global time_samples\n",
    "    if status:\n",
    "        print(status, flush=True)\n",
    "\n",
    "    # Perform real-time audio processing\n",
    "    rms = np.sqrt(np.mean(indata**2))\n",
    "\n",
    "    # Print RMS only for every 1000th callback call\n",
    "    if callback_count % hop_size == 0:\n",
    "        callback_count = 0\n",
    "\n",
    "        q.put(indata[:])\n",
    "        print(f\"Root Mean Square (RMS): {rms}\")\n",
    "        # print(helper.stable_nlml(time_samples, indata[:]))\n",
    "        print(time.inputBufferAdcTime)\n",
    "    \n",
    "    callback_count += 1\n",
    "\n",
    "def location():\n",
    "    while True:\n",
    "        try:\n",
    "            data = q.get_nowait()\n",
    "            print(data)\n",
    "        except queue.Empty:\n",
    "            break\n",
    "        print(len(data))\n",
    "\n",
    "\n",
    "    # Increment the callback count\n",
    "    callback_count += 1\n",
    "    return\n",
    "\n",
    "\n",
    "\n",
    "\n",
    "try:\n",
    "    callback_count = 0\n",
    "    # Set up the live audio stream using sounddevice\n",
    "    stream = sd.InputStream(callback=callback, channels=1, samplerate=sample_rate, blocksize=sample_size)\n",
    "    stream.start()\n",
    "    location()\n",
    "except KeyboardInterrupt:\n",
    "    print('\\nTerminating...')\n",
    "finally:\n",
    "    stream.stop()\n",
    "    stream.close()\n",
    "\n",
    "# # Keep the stream running (you may need to interrupt the program to stop it)\n",
    "# print('Press Ctrl+C to stop the stream')\n",
    "# try:\n",
    "#     sd.sleep(1000000)\n"
   ]
  },
  {
   "cell_type": "code",
   "execution_count": 23,
   "metadata": {},
   "outputs": [
    {
     "name": "stderr",
     "output_type": "stream",
     "text": [
      "Exception ignored from cffi callback <function _StreamBase.__init__.<locals>.callback_ptr at 0x178f02430>:\n",
      "Traceback (most recent call last):\n",
      "  File \"/Users/josephine/opt/anaconda3/envs/blog/lib/python3.9/site-packages/sounddevice.py\", line 846, in callback_ptr\n",
      "    return _wrap_callback(callback, data, frames, time, status)\n",
      "  File \"/Users/josephine/opt/anaconda3/envs/blog/lib/python3.9/site-packages/sounddevice.py\", line 2687, in _wrap_callback\n",
      "    callback(*args)\n",
      "  File \"/var/folders/n4/k97yk30s1wn32d7y6729kph80000gn/T/ipykernel_17876/3534118793.py\", line 16, in callback\n",
      "AttributeError: cdata 'struct PaStreamCallbackTimeInfo *' has no field 'start'\n"
     ]
    },
    {
     "ename": "KeyboardInterrupt",
     "evalue": "",
     "output_type": "error",
     "traceback": [
      "\u001b[0;31m---------------------------------------------------------------------------\u001b[0m",
      "\u001b[0;31mKeyboardInterrupt\u001b[0m                         Traceback (most recent call last)",
      "\u001b[1;32m/Users/josephine/Documents/Engineering /Part IIB/Score alignment project/Score-follower/GP_models/audio_processing/sounddevice_experiments.ipynb Cell 2\u001b[0m line \u001b[0;36m2\n\u001b[1;32m     <a href='vscode-notebook-cell:/Users/josephine/Documents/Engineering%20/Part%20IIB/Score%20alignment%20project/Score-follower/GP_models/audio_processing/sounddevice_experiments.ipynb#W2sZmlsZQ%3D%3D?line=20'>21</a>\u001b[0m \u001b[39mwith\u001b[39;00m sd\u001b[39m.\u001b[39mInputStream(callback\u001b[39m=\u001b[39mcallback, channels\u001b[39m=\u001b[39m\u001b[39m1\u001b[39m, samplerate\u001b[39m=\u001b[39msample_rate, blocksize\u001b[39m=\u001b[39msample_length):\n\u001b[1;32m     <a href='vscode-notebook-cell:/Users/josephine/Documents/Engineering%20/Part%20IIB/Score%20alignment%20project/Score-follower/GP_models/audio_processing/sounddevice_experiments.ipynb#W2sZmlsZQ%3D%3D?line=21'>22</a>\u001b[0m     \u001b[39m# Record periodically\u001b[39;00m\n\u001b[1;32m     <a href='vscode-notebook-cell:/Users/josephine/Documents/Engineering%20/Part%20IIB/Score%20alignment%20project/Score-follower/GP_models/audio_processing/sounddevice_experiments.ipynb#W2sZmlsZQ%3D%3D?line=22'>23</a>\u001b[0m     \u001b[39mwhile\u001b[39;00m \u001b[39mTrue\u001b[39;00m:\n\u001b[0;32m---> <a href='vscode-notebook-cell:/Users/josephine/Documents/Engineering%20/Part%20IIB/Score%20alignment%20project/Score-follower/GP_models/audio_processing/sounddevice_experiments.ipynb#W2sZmlsZQ%3D%3D?line=23'>24</a>\u001b[0m         time\u001b[39m.\u001b[39;49msleep(\u001b[39m1000\u001b[39;49m)\n\u001b[1;32m     <a href='vscode-notebook-cell:/Users/josephine/Documents/Engineering%20/Part%20IIB/Score%20alignment%20project/Score-follower/GP_models/audio_processing/sounddevice_experiments.ipynb#W2sZmlsZQ%3D%3D?line=24'>25</a>\u001b[0m          \u001b[39m# Start the stream\u001b[39;00m\n",
      "\u001b[0;31mKeyboardInterrupt\u001b[0m: "
     ]
    }
   ],
   "source": []
  },
  {
   "cell_type": "code",
   "execution_count": 51,
   "metadata": {},
   "outputs": [],
   "source": [
    "import numpy as np\n",
    "# A = np.array([[0, 0, 1 ,0 ,0 ,0 ,0 ,0],[0 ,0 ,0 ,0 ,0 ,1 ,0 ,0], [1, 0, 1, 0, 0, 0, −1, 0], [0, 0, 0, 2, 0, 2, 1, 0],[0 ,2 ,2 ,0 ,0 ,0 ,0 ,1],[0 ,0 ,0 ,0 ,1 ,1 ,0 ,−1],[3 ,3 ,3 ,0 ,0 ,0, −1 ,−1],[0, 0, 0, 3, 3, 3, −1, −1]])\n",
    "A = np.array([[0, 0, 1 ,0 ,0 ,0 ,0 ,0],[0 ,0 ,0 ,0 ,0 ,1 ,0 ,0], [1, 0, 1, 0, 0, 0, -1, 0], [0, 0, 0, 2, 0, 2, 1, 0],[0 ,2 ,2 ,0 ,0 ,0 ,0 ,1],[0 ,0 ,0 ,0 ,1 ,1 ,0 ,-1],[3 ,3 ,3 ,0 ,0 ,0, -1 ,-1],[0, 0, 0, 3, 3, 3, -1, -1]])\n",
    "b = np.array([[0,0,1,-1,-1,1,1,1]]).reshape(-1,1)"
   ]
  },
  {
   "cell_type": "code",
   "execution_count": 52,
   "metadata": {},
   "outputs": [
    {
     "data": {
      "text/plain": [
       "(8, 1)"
      ]
     },
     "execution_count": 52,
     "metadata": {},
     "output_type": "execute_result"
    }
   ],
   "source": [
    "b.shape"
   ]
  },
  {
   "cell_type": "code",
   "execution_count": 54,
   "metadata": {},
   "outputs": [
    {
     "data": {
      "text/plain": [
       "array([[ 2.00000000e+00],\n",
       "       [-1.00000000e+00],\n",
       "       [-2.26156542e-16],\n",
       "       [-1.00000000e+00],\n",
       "       [ 2.00000000e+00],\n",
       "       [ 0.00000000e+00],\n",
       "       [ 1.00000000e+00],\n",
       "       [ 1.00000000e+00]])"
      ]
     },
     "execution_count": 54,
     "metadata": {},
     "output_type": "execute_result"
    }
   ],
   "source": [
    "A_inv = np.linalg.inv(A)\n",
    "A_inv.dot(b)"
   ]
  },
  {
   "cell_type": "code",
   "execution_count": 24,
   "metadata": {},
   "outputs": [
    {
     "data": {
      "text/plain": [
       "array([0, 0, 1, 0, 0, 0, 0, 0])"
      ]
     },
     "execution_count": 24,
     "metadata": {},
     "output_type": "execute_result"
    }
   ],
   "source": [
    "A[0]"
   ]
  },
  {
   "cell_type": "code",
   "execution_count": 58,
   "metadata": {},
   "outputs": [
    {
     "name": "stdout",
     "output_type": "stream",
     "text": [
      "(6, 5) (6, 1)\n"
     ]
    },
    {
     "ename": "LinAlgError",
     "evalue": "Last 2 dimensions of the array must be square",
     "output_type": "error",
     "traceback": [
      "\u001b[0;31m---------------------------------------------------------------------------\u001b[0m",
      "\u001b[0;31mLinAlgError\u001b[0m                               Traceback (most recent call last)",
      "\u001b[1;32m/Users/josephine/Documents/Engineering /Part IIB/Score alignment project/Score-follower/GP_models/audio_processing/sounddevice_experiments.ipynb Cell 7\u001b[0m line \u001b[0;36m4\n\u001b[1;32m      <a href='vscode-notebook-cell:/Users/josephine/Documents/Engineering%20/Part%20IIB/Score%20alignment%20project/Score-follower/GP_models/audio_processing/sounddevice_experiments.ipynb#W6sZmlsZQ%3D%3D?line=1'>2</a>\u001b[0m b \u001b[39m=\u001b[39m np\u001b[39m.\u001b[39marray([\u001b[39m0\u001b[39m,\u001b[39m0\u001b[39m,\u001b[39m1\u001b[39m,\u001b[39m1\u001b[39m,\u001b[39m1.2\u001b[39m,\u001b[39m0.6\u001b[39m])\u001b[39m.\u001b[39mreshape(\u001b[39m-\u001b[39m\u001b[39m1\u001b[39m,\u001b[39m1\u001b[39m)\n\u001b[1;32m      <a href='vscode-notebook-cell:/Users/josephine/Documents/Engineering%20/Part%20IIB/Score%20alignment%20project/Score-follower/GP_models/audio_processing/sounddevice_experiments.ipynb#W6sZmlsZQ%3D%3D?line=2'>3</a>\u001b[0m \u001b[39mprint\u001b[39m(A\u001b[39m.\u001b[39mshape, b\u001b[39m.\u001b[39mshape)\n\u001b[0;32m----> <a href='vscode-notebook-cell:/Users/josephine/Documents/Engineering%20/Part%20IIB/Score%20alignment%20project/Score-follower/GP_models/audio_processing/sounddevice_experiments.ipynb#W6sZmlsZQ%3D%3D?line=3'>4</a>\u001b[0m np\u001b[39m.\u001b[39;49mlinalg\u001b[39m.\u001b[39;49minv(A)\u001b[39m.\u001b[39mdot(b)\n",
      "File \u001b[0;32m<__array_function__ internals>:200\u001b[0m, in \u001b[0;36minv\u001b[0;34m(*args, **kwargs)\u001b[0m\n",
      "File \u001b[0;32m~/opt/anaconda3/envs/blog/lib/python3.9/site-packages/numpy/linalg/linalg.py:533\u001b[0m, in \u001b[0;36minv\u001b[0;34m(a)\u001b[0m\n\u001b[1;32m    531\u001b[0m a, wrap \u001b[39m=\u001b[39m _makearray(a)\n\u001b[1;32m    532\u001b[0m _assert_stacked_2d(a)\n\u001b[0;32m--> 533\u001b[0m _assert_stacked_square(a)\n\u001b[1;32m    534\u001b[0m t, result_t \u001b[39m=\u001b[39m _commonType(a)\n\u001b[1;32m    536\u001b[0m signature \u001b[39m=\u001b[39m \u001b[39m'\u001b[39m\u001b[39mD->D\u001b[39m\u001b[39m'\u001b[39m \u001b[39mif\u001b[39;00m isComplexType(t) \u001b[39melse\u001b[39;00m \u001b[39m'\u001b[39m\u001b[39md->d\u001b[39m\u001b[39m'\u001b[39m\n",
      "File \u001b[0;32m~/opt/anaconda3/envs/blog/lib/python3.9/site-packages/numpy/linalg/linalg.py:190\u001b[0m, in \u001b[0;36m_assert_stacked_square\u001b[0;34m(*arrays)\u001b[0m\n\u001b[1;32m    188\u001b[0m m, n \u001b[39m=\u001b[39m a\u001b[39m.\u001b[39mshape[\u001b[39m-\u001b[39m\u001b[39m2\u001b[39m:]\n\u001b[1;32m    189\u001b[0m \u001b[39mif\u001b[39;00m m \u001b[39m!=\u001b[39m n:\n\u001b[0;32m--> 190\u001b[0m     \u001b[39mraise\u001b[39;00m LinAlgError(\u001b[39m'\u001b[39m\u001b[39mLast 2 dimensions of the array must be square\u001b[39m\u001b[39m'\u001b[39m)\n",
      "\u001b[0;31mLinAlgError\u001b[0m: Last 2 dimensions of the array must be square"
     ]
    }
   ],
   "source": [
    "A = np.array([[0,1,0,0,0],[0,0,0,1,0],[20,0,0,0,-20],[0,0,40,0,-20],[30,0,0,0,36],[0,0,30,0,-18]])\n",
    "b = np.array([0,0,1,1,1.2,0.6]).reshape(-1,1)\n",
    "print(A.shape, b.shape)\n",
    "np.linalg.inv(A).dot(b)"
   ]
  },
  {
   "cell_type": "code",
   "execution_count": null,
   "metadata": {},
   "outputs": [],
   "source": []
  }
 ],
 "metadata": {
  "kernelspec": {
   "display_name": "blog",
   "language": "python",
   "name": "python3"
  },
  "language_info": {
   "codemirror_mode": {
    "name": "ipython",
    "version": 3
   },
   "file_extension": ".py",
   "mimetype": "text/x-python",
   "name": "python",
   "nbconvert_exporter": "python",
   "pygments_lexer": "ipython3",
   "version": "3.9.18"
  }
 },
 "nbformat": 4,
 "nbformat_minor": 2
}
