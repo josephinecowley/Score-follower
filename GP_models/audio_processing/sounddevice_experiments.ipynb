{
 "cells": [
  {
   "cell_type": "code",
   "execution_count": 10,
   "metadata": {},
   "outputs": [
    {
     "name": "stderr",
     "output_type": "stream",
     "text": [
      "0it [00:00, ?it/s]"
     ]
    },
    {
     "name": "stdout",
     "output_type": "stream",
     "text": [
      "Press Ctrl+C to stop the stream\n",
      "Root Mean Square (RMS): 0.000795531552284956\n"
     ]
    },
    {
     "name": "stderr",
     "output_type": "stream",
     "text": [
      "1it [00:00,  8.18it/s]"
     ]
    },
    {
     "name": "stdout",
     "output_type": "stream",
     "text": [
      "-3604.153822216584\n",
      "input overflow\n"
     ]
    },
    {
     "name": "stderr",
     "output_type": "stream",
     "text": [
      "\n",
      "1it [00:00,  9.30it/s]"
     ]
    },
    {
     "name": "stdout",
     "output_type": "stream",
     "text": [
      "Root Mean Square (RMS): 0.0005755503661930561\n",
      "-3604.3927886730467\n",
      "input overflow\n"
     ]
    },
    {
     "name": "stderr",
     "output_type": "stream",
     "text": [
      "\n",
      "1it [00:00,  9.49it/s]"
     ]
    },
    {
     "name": "stdout",
     "output_type": "stream",
     "text": [
      "Root Mean Square (RMS): 0.031178094446659088\n",
      "-3610.636089101949\n"
     ]
    },
    {
     "name": "stderr",
     "output_type": "stream",
     "text": [
      "\n",
      "1it [00:00,  8.92it/s]"
     ]
    },
    {
     "name": "stdout",
     "output_type": "stream",
     "text": [
      "Root Mean Square (RMS): 0.022919882088899612\n",
      "-3610.625300010875\n",
      "input overflow\n"
     ]
    },
    {
     "name": "stderr",
     "output_type": "stream",
     "text": [
      "\n",
      "1it [00:00,  9.65it/s]"
     ]
    },
    {
     "name": "stdout",
     "output_type": "stream",
     "text": [
      "Root Mean Square (RMS): 0.0025098950136452913\n",
      "-3610.0734734650946\n",
      "input overflow\n"
     ]
    },
    {
     "name": "stderr",
     "output_type": "stream",
     "text": [
      "\n",
      "1it [00:00,  9.65it/s]"
     ]
    },
    {
     "name": "stdout",
     "output_type": "stream",
     "text": [
      "Root Mean Square (RMS): 0.00048420450184494257\n",
      "-3603.3410464124186\n",
      "input overflow\n"
     ]
    },
    {
     "name": "stderr",
     "output_type": "stream",
     "text": [
      "\n",
      "1it [00:00,  9.53it/s]"
     ]
    },
    {
     "name": "stdout",
     "output_type": "stream",
     "text": [
      "Root Mean Square (RMS): 0.0007875054143369198\n",
      "-3603.075343950835\n",
      "input overflow\n"
     ]
    },
    {
     "name": "stderr",
     "output_type": "stream",
     "text": [
      "\n",
      "1it [00:00,  9.67it/s]"
     ]
    },
    {
     "name": "stdout",
     "output_type": "stream",
     "text": [
      "Root Mean Square (RMS): 0.0004164205165579915\n",
      "-3602.7171506106974\n",
      "input overflow\n"
     ]
    },
    {
     "name": "stderr",
     "output_type": "stream",
     "text": [
      "\n",
      "1it [00:00,  9.80it/s]"
     ]
    },
    {
     "name": "stdout",
     "output_type": "stream",
     "text": [
      "Root Mean Square (RMS): 0.000810453318990767\n",
      "-3603.5963453234785\n",
      "input overflow\n"
     ]
    },
    {
     "name": "stderr",
     "output_type": "stream",
     "text": [
      "\n",
      "1it [00:00,  8.23it/s]"
     ]
    },
    {
     "name": "stdout",
     "output_type": "stream",
     "text": [
      "Root Mean Square (RMS): 0.08962500840425491\n",
      "-3606.241511257495\n"
     ]
    },
    {
     "name": "stderr",
     "output_type": "stream",
     "text": [
      "\n",
      "1it [00:00,  8.84it/s]"
     ]
    },
    {
     "name": "stdout",
     "output_type": "stream",
     "text": [
      "Root Mean Square (RMS): 0.12262586504220963\n",
      "-3604.909950917952\n",
      "input overflow\n"
     ]
    },
    {
     "name": "stderr",
     "output_type": "stream",
     "text": [
      "\n",
      "1it [00:00,  7.22it/s]"
     ]
    },
    {
     "name": "stdout",
     "output_type": "stream",
     "text": [
      "Root Mean Square (RMS): 0.000647250097244978\n",
      "-3604.1514362030625\n"
     ]
    },
    {
     "name": "stderr",
     "output_type": "stream",
     "text": [
      "\n"
     ]
    },
    {
     "name": "stdout",
     "output_type": "stream",
     "text": [
      "input overflow\n"
     ]
    },
    {
     "name": "stderr",
     "output_type": "stream",
     "text": [
      "1it [00:00,  9.02it/s]"
     ]
    },
    {
     "name": "stdout",
     "output_type": "stream",
     "text": [
      "Root Mean Square (RMS): 0.0006074320408515632\n",
      "-3604.812442249014\n",
      "input overflow\n"
     ]
    },
    {
     "name": "stderr",
     "output_type": "stream",
     "text": [
      "\n",
      "1it [00:00,  9.63it/s]"
     ]
    },
    {
     "name": "stdout",
     "output_type": "stream",
     "text": [
      "Root Mean Square (RMS): 0.00041689196950756013\n",
      "-3604.0683512868286\n",
      "input overflow\n"
     ]
    },
    {
     "name": "stderr",
     "output_type": "stream",
     "text": [
      "\n",
      "1it [00:00,  9.75it/s]"
     ]
    },
    {
     "name": "stdout",
     "output_type": "stream",
     "text": [
      "Root Mean Square (RMS): 0.0006059285369701684\n",
      "-3603.4295287402924\n",
      "input overflow\n"
     ]
    },
    {
     "name": "stderr",
     "output_type": "stream",
     "text": [
      "\n",
      "1it [00:00,  9.75it/s]"
     ]
    },
    {
     "name": "stdout",
     "output_type": "stream",
     "text": [
      "Root Mean Square (RMS): 0.0007705125608481467\n",
      "-3604.886438527082\n",
      "input overflow\n"
     ]
    },
    {
     "name": "stderr",
     "output_type": "stream",
     "text": [
      "\n",
      "1it [00:00,  9.49it/s]"
     ]
    },
    {
     "name": "stdout",
     "output_type": "stream",
     "text": [
      "Root Mean Square (RMS): 0.0006234115571714938\n",
      "-3603.7696580023817\n",
      "input overflow\n"
     ]
    },
    {
     "name": "stderr",
     "output_type": "stream",
     "text": [
      "\n",
      "1it [00:00,  8.94it/s]"
     ]
    },
    {
     "name": "stdout",
     "output_type": "stream",
     "text": [
      "Root Mean Square (RMS): 0.0008673268603160977\n",
      "-3604.3577914674747\n",
      "input overflow\n"
     ]
    },
    {
     "name": "stderr",
     "output_type": "stream",
     "text": [
      "\n",
      "1it [00:00,  9.73it/s]"
     ]
    },
    {
     "name": "stdout",
     "output_type": "stream",
     "text": [
      "Root Mean Square (RMS): 0.0007527776760980487\n",
      "-3604.8421166736493\n",
      "input overflow\n"
     ]
    },
    {
     "name": "stderr",
     "output_type": "stream",
     "text": [
      "\n",
      "1it [00:00,  9.45it/s]"
     ]
    },
    {
     "name": "stdout",
     "output_type": "stream",
     "text": [
      "Root Mean Square (RMS): 0.0005393529427237809\n",
      "-3604.7795885434793\n",
      "input overflow\n"
     ]
    },
    {
     "name": "stderr",
     "output_type": "stream",
     "text": [
      "\n",
      "1it [00:00,  9.24it/s]"
     ]
    },
    {
     "name": "stdout",
     "output_type": "stream",
     "text": [
      "Root Mean Square (RMS): 0.0003789084730669856\n",
      "-3603.39941650052\n",
      "input overflow\n"
     ]
    },
    {
     "name": "stderr",
     "output_type": "stream",
     "text": [
      "\n"
     ]
    },
    {
     "name": "stdout",
     "output_type": "stream",
     "text": [
      "\n",
      "Terminating...\n"
     ]
    }
   ],
   "source": [
    "import sounddevice as sd\n",
    "import numpy as np\n",
    "import sys\n",
    "sys.path.append('/Users/josephine/Documents/Engineering /Part IIB/Score alignment project/Score-follower/GP_models')\n",
    "import helper\n",
    "\n",
    "callback_count = 0\n",
    "sample_rate = 44100\n",
    "sample_size = 1000\n",
    "\n",
    "time_samples = np.linspace(0, sample_size/sample_rate, sample_size)\n",
    "def callback(indata, frames, time, status):\n",
    "    global callback_count\n",
    "    global time_samples\n",
    "    if status:\n",
    "        print(status, flush=True)\n",
    "\n",
    "    # Perform real-time audio processing\n",
    "    rms = np.sqrt(np.mean(indata**2))\n",
    "\n",
    "    # Print RMS only for every 1000th callback call\n",
    "    if callback_count % 50 == 0:\n",
    "        print(f\"Root Mean Square (RMS): {rms}\")\n",
    "        print(helper.stable_nlml(time_samples, indata))\n",
    "\n",
    "    # Increment the callback count\n",
    "    callback_count += 1\n",
    "\n",
    "# Set up the live audio stream using sounddevice\n",
    "stream = sd.InputStream(callback=callback, channels=1, samplerate=44100, blocksize=sample_size)\n",
    "stream.start()\n",
    "\n",
    "# Keep the stream running (you may need to interrupt the program to stop it)\n",
    "print('Press Ctrl+C to stop the stream')\n",
    "try:\n",
    "    sd.sleep(1000000)\n",
    "except KeyboardInterrupt:\n",
    "    print('\\nTerminating...')\n",
    "finally:\n",
    "    stream.stop()\n",
    "    stream.close()"
   ]
  },
  {
   "cell_type": "code",
   "execution_count": 23,
   "metadata": {},
   "outputs": [
    {
     "name": "stderr",
     "output_type": "stream",
     "text": [
      "Exception ignored from cffi callback <function _StreamBase.__init__.<locals>.callback_ptr at 0x178f02430>:\n",
      "Traceback (most recent call last):\n",
      "  File \"/Users/josephine/opt/anaconda3/envs/blog/lib/python3.9/site-packages/sounddevice.py\", line 846, in callback_ptr\n",
      "    return _wrap_callback(callback, data, frames, time, status)\n",
      "  File \"/Users/josephine/opt/anaconda3/envs/blog/lib/python3.9/site-packages/sounddevice.py\", line 2687, in _wrap_callback\n",
      "    callback(*args)\n",
      "  File \"/var/folders/n4/k97yk30s1wn32d7y6729kph80000gn/T/ipykernel_17876/3534118793.py\", line 16, in callback\n",
      "AttributeError: cdata 'struct PaStreamCallbackTimeInfo *' has no field 'start'\n"
     ]
    },
    {
     "ename": "KeyboardInterrupt",
     "evalue": "",
     "output_type": "error",
     "traceback": [
      "\u001b[0;31m---------------------------------------------------------------------------\u001b[0m",
      "\u001b[0;31mKeyboardInterrupt\u001b[0m                         Traceback (most recent call last)",
      "\u001b[1;32m/Users/josephine/Documents/Engineering /Part IIB/Score alignment project/Score-follower/GP_models/audio_processing/sounddevice_experiments.ipynb Cell 2\u001b[0m line \u001b[0;36m2\n\u001b[1;32m     <a href='vscode-notebook-cell:/Users/josephine/Documents/Engineering%20/Part%20IIB/Score%20alignment%20project/Score-follower/GP_models/audio_processing/sounddevice_experiments.ipynb#W2sZmlsZQ%3D%3D?line=20'>21</a>\u001b[0m \u001b[39mwith\u001b[39;00m sd\u001b[39m.\u001b[39mInputStream(callback\u001b[39m=\u001b[39mcallback, channels\u001b[39m=\u001b[39m\u001b[39m1\u001b[39m, samplerate\u001b[39m=\u001b[39msample_rate, blocksize\u001b[39m=\u001b[39msample_length):\n\u001b[1;32m     <a href='vscode-notebook-cell:/Users/josephine/Documents/Engineering%20/Part%20IIB/Score%20alignment%20project/Score-follower/GP_models/audio_processing/sounddevice_experiments.ipynb#W2sZmlsZQ%3D%3D?line=21'>22</a>\u001b[0m     \u001b[39m# Record periodically\u001b[39;00m\n\u001b[1;32m     <a href='vscode-notebook-cell:/Users/josephine/Documents/Engineering%20/Part%20IIB/Score%20alignment%20project/Score-follower/GP_models/audio_processing/sounddevice_experiments.ipynb#W2sZmlsZQ%3D%3D?line=22'>23</a>\u001b[0m     \u001b[39mwhile\u001b[39;00m \u001b[39mTrue\u001b[39;00m:\n\u001b[0;32m---> <a href='vscode-notebook-cell:/Users/josephine/Documents/Engineering%20/Part%20IIB/Score%20alignment%20project/Score-follower/GP_models/audio_processing/sounddevice_experiments.ipynb#W2sZmlsZQ%3D%3D?line=23'>24</a>\u001b[0m         time\u001b[39m.\u001b[39;49msleep(\u001b[39m1000\u001b[39;49m)\n\u001b[1;32m     <a href='vscode-notebook-cell:/Users/josephine/Documents/Engineering%20/Part%20IIB/Score%20alignment%20project/Score-follower/GP_models/audio_processing/sounddevice_experiments.ipynb#W2sZmlsZQ%3D%3D?line=24'>25</a>\u001b[0m          \u001b[39m# Start the stream\u001b[39;00m\n",
      "\u001b[0;31mKeyboardInterrupt\u001b[0m: "
     ]
    }
   ],
   "source": []
  },
  {
   "cell_type": "code",
   "execution_count": null,
   "metadata": {},
   "outputs": [],
   "source": []
  }
 ],
 "metadata": {
  "kernelspec": {
   "display_name": "blog",
   "language": "python",
   "name": "python3"
  },
  "language_info": {
   "codemirror_mode": {
    "name": "ipython",
    "version": 3
   },
   "file_extension": ".py",
   "mimetype": "text/x-python",
   "name": "python",
   "nbconvert_exporter": "python",
   "pygments_lexer": "ipython3",
   "version": "3.9.18"
  }
 },
 "nbformat": 4,
 "nbformat_minor": 2
}
